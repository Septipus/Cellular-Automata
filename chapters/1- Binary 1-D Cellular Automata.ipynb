{
 "cells": [
  {
   "cell_type": "code",
   "execution_count": 41,
   "metadata": {},
   "outputs": [],
   "source": [
    "from itertools import product\n",
    "import numpy as np\n",
    "from pprint import pprint\n",
    "import matplotlib.pyplot as plt"
   ]
  },
  {
   "cell_type": "code",
   "execution_count": 42,
   "metadata": {},
   "outputs": [
    {
     "name": "stdout",
     "output_type": "stream",
     "text": [
      "The autoreload extension is already loaded. To reload it, use:\n",
      "  %reload_ext autoreload\n"
     ]
    }
   ],
   "source": [
    "%load_ext autoreload\n",
    "%autoreload 2\n",
    "from get_lookup_indicies import get_lookup_indicies\n",
    "from get_kmers import get_kmers\n",
    "from get_binary_rule_rep import get_binary_rule_rep\n",
    "from process_binary_input import process_binary_input"
   ]
  },
  {
   "cell_type": "markdown",
   "metadata": {},
   "source": [
    "# 1- Binary state 1-D Cellular Automata\n",
    "\n",
    "This notebook will cover:\n",
    "- Basics of CAs as indexing functions\n",
    "- Implementation of 1D CAs\n",
    "- Generation of CA update map based ona randomly chosen rule & input sequence"
   ]
  },
  {
   "cell_type": "markdown",
   "metadata": {},
   "source": [
    "## a) Defining the closed set of CA rules, identifying a singular rule and processing an arbitrary length input through a rule\n",
    "\n",
    "Cellular automata rules come in sets. To define this set, two elements are required:\n",
    "1. A set of discreet states\n",
    "2. A rule order\n",
    "\n",
    "A set of CA rules is defined as all the CA rule sequences that are of a specific length and consistent of all the possible permutations of these discreet states of that length.\n",
    "\n",
    "The length of the CA rule sequence is defined as the number of permutatons of sequeneces of the discreet states that are rule order in length.\n",
    "\n",
    "for example, lets define the following:\n",
    "    - states:  S = [0, 1]\n",
    "    - rule order O = 3\n",
    "    \n",
    "Thus the set permutations of these states that are 3 in length are ['000', '001', '010', '011', '100', '101', '110', '111'].\n",
    "\n",
    "Note: There is an implicit order here, and That is by choice of how we ordered the permutations. The order does not necissairaly matter so long as it is explicitly stated and carried through. In this case, the order used will be the one expressed above.\n",
    "\n",
    "The count of these permutations is 8. This can be simple expressed as:\n",
    "    \n",
    "    L(R) = L(S) ^ O where,\n",
    "        R : any CA Rule within the CA rule set\n",
    "        L(R) : sequence length of any rule in the CA rule set\n",
    "        S : set of states\n",
    "        L(S) : length of the set of states\n",
    "        O : rule order\n",
    "        \n",
    "To total size (i.e. magnitude) of the CA rule set can then be calculated by counting all the possible permutations of the states that are of L(R) long. i.e.\n",
    "    \n",
    "    |R| = L(S) ^ L(R)\n",
    "    or \n",
    "    |R| = L(S) ^ (L(S) ^ O)\n",
    "    \n",
    "In the case above, substituting for L(S) = 2, O = 3, we get |R| = 256.\n",
    "\n",
    "So in short, for S = [0, 1] & O = 2, we have defined a set of 256 CA rules (that are all the 8-long permutation sequences of the states in S). examples are: '01001101', '01001101', '11110000', ...\n",
    "\n",
    "Similarly, we have defined as way to access the specific states of any given rule defined in this set but using the ordered set of indicies (permutations of states in S of length )) -> ['000', '001', '010', '011', '100', '101', '110', '111'].\n",
    "\n",
    "We can also order the set of CA rules by numbering them. The most trivial way of doing this is by converting the CA rule sequence from the binary representation into an integer. For example: \n",
    "\n",
    "    '00000000' = 0\n",
    "    '00100001' = 33\n",
    "    '10001001' = 137\n",
    "    '11110110' = 246\n",
    "    \n",
    "So in conclusion, Any CA Rule has this form, where S1...S8 are all one of [0, 1], and specific rules 33, 137 & 212 are:\n",
    "\n",
    "| Indicies \t| Rule Set \t| Rule 33 \t| Rule 137 \t| rule 212 \t|\n",
    "|:--------:\t|:--------:\t|:-------:\t|:--------:\t|:--------:\t|\n",
    "|    000   \t|    S1    \t|    0    \t|     1    \t|     1    \t|\n",
    "|    001   \t|    S2    \t|    0    \t|     0    \t|     1    \t|\n",
    "|    010   \t|    S3    \t|    1    \t|     0    \t|     0    \t|\n",
    "|    011   \t|    S4    \t|    0    \t|     0    \t|     1    \t|\n",
    "|    100   \t|    S5    \t|    0    \t|     1    \t|     0    \t|\n",
    "|    101   \t|    S6    \t|    0    \t|     0    \t|     1    \t|\n",
    "|    110   \t|    S7    \t|    0    \t|     0    \t|     0    \t|\n",
    "|    111   \t|    S8    \t|    1    \t|     1    \t|     0    \t|\n",
    "\n",
    "\n",
    "As such, Cellular Automata rules, can be viewed as indexing functions, where the input is a specific permutation of its possible indicies, and the output is the corresponding state\n",
    "\n",
    "This would be the same as saying:\n",
    "    \n",
    "    Rule(index) = state.\n",
    "    \n",
    "Note that the only valid indicies are the ones that are of length of O and consist of only states '0' or '1'\n",
    "\n",
    "so the process here is simple:\n",
    "    \n",
    "    - take an input, say '101', and a rule say # 212.\n",
    "    - convert the input to teh appropriate index, in this case 6\n",
    "    - covert the rul into the bibary rep, in this case '11010100'\n",
    "    - return the 6th state of the binary rule rep, in this case 1\n",
    "    \n",
    "And this is the basis of a CA rule indexing.\n",
    "\n",
    "The same process can be extended to any arbitrary length input so long as it is longer that O. This is done by breaking the input in consecutive [k-mers](https://en.wikipedia.org/wiki/K-mer), and repeating the indexing process. this can be done as follows:\n",
    "\n",
    "    - for rule @ 212 the indexed binary rep is:\n",
    "    \n",
    "|   index kmer \t| 000 \t| 001 \t| 010 \t| 011 \t| 100 \t| 101 \t| 110 \t| 111 \t|\n",
    "|:------------:\t|:---:\t|:---:\t|:---:\t|:---:\t|-----\t|-----\t|-----\t|-----\t|\n",
    "| index number \t|  0  \t|  1  \t|  2  \t|  3  \t| 4   \t| 5   \t| 6   \t| 7   \t|\n",
    "| Rule 212     \t| 1   \t| 1   \t| 0   \t| 1   \t| 0   \t| 1   \t| 0   \t| 0   \t|\n",
    "    \n",
    "    - for input '101100101', the corresponding kmers (looping & non-looping) and rule outputs would be would be:\n",
    "    \n",
    "|non-looping  k-mer\t| 101 \t| 011 \t| 110 \t| 100 \t| 001 \t| 010 \t| 101 \t|\n",
    "|:---------------:\t|:---:\t|:---:\t|:---:\t|:---:\t|-----\t|-----\t|-----\t|\n",
    "| Rule 212 output \t|  1  \t|  1  \t|  0  \t|  0  \t| 1   \t| 1   \t| 1   \t|\n",
    "\n",
    "| looping k-mers  \t| 110 \t| 101 \t| 011 \t| 110 \t| 100 \t| 001 \t| 010 \t| 101 \t| 011 \t|\n",
    "|:---------------:\t|-----\t|:---:\t|:---:\t|:---:\t|:---:\t|-----\t|-----\t|-----\t|-----\t|\n",
    "| Rule 212 output \t| 0   \t|  1  \t|  1  \t|  0  \t|  0  \t| 1   \t| 1   \t| 1   \t| 1   \t|    \n",
    "    \n",
    "    - thus, the output for the rule 212 with input '101100101' would be:\n",
    "        non-looping kmers: '1100111'\n",
    "        looping kmers:     '011001111'\n",
    "\n",
    "To implement this, a few functions are needed:\n",
    "1. get_lookup_indicies: defines a global mapping of the ordered kmers and the corresponding index in a specific rule sequence\n",
    "2. get_binary_rule_rep: converts a rule number into its binary representation\n",
    "3. get_kmers: converts an input sequence into a set of kmers\n",
    "4. process_binary_input: process an input sequence through a given rule using the 3 functions above.\n",
    "\n",
    "These funcions are implemented in the ca_utils.py file found in the same directory of this workbook."
   ]
  },
  {
   "cell_type": "markdown",
   "metadata": {},
   "source": [
    "## b) Function Testing\n",
    "\n",
    "The following will implement the above mentioned functions"
   ]
  },
  {
   "cell_type": "markdown",
   "metadata": {},
   "source": [
    "### b.1) get_lookup_indicies(inpt_states, order=3)\n",
    "\n",
    "notes:\n",
    "1. the permutations are a function of:\n",
    "    - the size of the input states (fixed = 2 in this case)\n",
    "    - and the rule order\n",
    "2. the indicies corresponding to the indices changes based on the implicit order of the input states (i.e. '01', vs '10')\n",
    "    "
   ]
  },
  {
   "cell_type": "code",
   "execution_count": 51,
   "metadata": {
    "scrolled": true
   },
   "outputs": [
    {
     "name": "stdout",
     "output_type": "stream",
     "text": [
      "\n",
      "For states 01 & a rule order = 1 , the fixed CA rule lookup indicies are:\n",
      "{'0': 0, '1': 1}\n",
      "\n",
      "For states 01 & a rule order = 2 , the fixed CA rule lookup indicies are:\n",
      "{'00': 0, '01': 1, '10': 2, '11': 3}\n",
      "\n",
      "For states 01 & a rule order = 3 , the fixed CA rule lookup indicies are:\n",
      "{'000': 0, '001': 1, '010': 2, '011': 3, '100': 4, '101': 5, '110': 6, '111': 7}\n",
      "\n",
      "For states 10 & a rule order = 1 , the fixed CA rule lookup indicies are:\n",
      "{'0': 1, '1': 0}\n",
      "\n",
      "For states 10 & a rule order = 2 , the fixed CA rule lookup indicies are:\n",
      "{'00': 3, '01': 2, '10': 1, '11': 0}\n",
      "\n",
      "For states 10 & a rule order = 3 , the fixed CA rule lookup indicies are:\n",
      "{'000': 7, '001': 6, '010': 5, '011': 4, '100': 3, '101': 2, '110': 1, '111': 0}\n"
     ]
    }
   ],
   "source": [
    "inpt_states = ['01', '10'] # binary states for this use case\n",
    "rule_orders = [1, 2, 3]\n",
    "\n",
    "for test_inpt_states, test_order in product(inpt_states, rule_orders):\n",
    "    kmer_indicies_mapping = get_lookup_indicies(states=test_inpt_states, order=test_order)\n",
    "    \n",
    "    print(f'\\nFor states {test_inpt_states} & a rule order = {test_order} , the fixed CA rule lookup indicies are:')\n",
    "    pprint(kmer_indicies_mapping)"
   ]
  },
  {
   "cell_type": "markdown",
   "metadata": {},
   "source": [
    "### b.2) get_binary_rule_rep(rule_number, rule_order)\n",
    "\n",
    "notes:\n",
    "\n",
    "Rule numbers are limited by the number of kmers (& thus indicies) that can act as inputs.\n",
    "\n",
    "So for O = 3 (rule order) & states = '01', we know that there are a possible of 256 rules each with a representaion length of 8. We will make this parametric to show the effects"
   ]
  },
  {
   "cell_type": "code",
   "execution_count": 52,
   "metadata": {},
   "outputs": [
    {
     "name": "stdout",
     "output_type": "stream",
     "text": [
      "For states 01 & O = 2:\n",
      "\tThe rule space Magnitude is 16 & the rule representation length is 4\n",
      "\tSample Rule #: 10 has rule rep: 1010\n",
      "\tSample Rule #: 12 has rule rep: 1100\n",
      "\tSample Rule #: 8 has rule rep: 1000\n",
      "\n",
      "\n",
      "For states 01 & O = 3:\n",
      "\tThe rule space Magnitude is 256 & the rule representation length is 8\n",
      "\tSample Rule #: 145 has rule rep: 10010001\n",
      "\tSample Rule #: 53 has rule rep: 00110101\n",
      "\tSample Rule #: 189 has rule rep: 10111101\n",
      "\n",
      "\n",
      "For states 01 & O = 4:\n",
      "\tThe rule space Magnitude is 65536 & the rule representation length is 16\n",
      "\tSample Rule #: 34520 has rule rep: 1000011011011000\n",
      "\tSample Rule #: 28502 has rule rep: 0110111101010110\n",
      "\tSample Rule #: 51607 has rule rep: 1100100110010111\n",
      "\n",
      "\n"
     ]
    }
   ],
   "source": [
    "states = '01'\n",
    "states_count = len(states)\n",
    "rule_orders = [2,3,4]\n",
    "\n",
    "for test_rule_order in rule_orders:\n",
    "    \n",
    "    rule_length = states_count** test_rule_order\n",
    "    rule_space_maginitude = states_count ** rule_length\n",
    "    print(f'For states {states} & O = {test_rule_order}:')\n",
    "    print(f'\\tThe rule space Magnitude is {rule_space_maginitude} & the rule representation length is {rule_length}')\n",
    "    \n",
    "    for _ in range(3):\n",
    "        rule_number = np.random.randint(0, rule_space_maginitude)\n",
    "        rule_rep = get_binary_rule_rep(rule_number=rule_number, rule_order=test_rule_order)\n",
    "        print(f'\\tSample Rule #: {rule_number} has rule rep: {rule_rep}')\n",
    "    print('\\n')"
   ]
  },
  {
   "cell_type": "markdown",
   "metadata": {},
   "source": [
    "### b.3) get_kmers(inpt_seq, k=3, looping=False)\n",
    "\n",
    "Note:\n",
    "\n",
    "For even number orders and the looping case, the extra k-mer overlap is deffered to the end of the kmers list"
   ]
  },
  {
   "cell_type": "code",
   "execution_count": 54,
   "metadata": {},
   "outputs": [
    {
     "name": "stdout",
     "output_type": "stream",
     "text": [
      "looping 2-mers for input: 011:\n",
      "['01', '11', '10']\n",
      "\n",
      "non-looping 2-mers for input: 011:\n",
      "['01', '11']\n",
      "\n",
      "looping 3-mers for input: 011:\n",
      "['101', '011', '110']\n",
      "\n",
      "non-looping 3-mers for input: 011:\n",
      "['011']\n",
      "\n",
      "looping 4-mers for input: 011:\n",
      "None\n",
      "\n",
      "non-looping 4-mers for input: 011:\n",
      "None\n",
      "\n",
      "looping 2-mers for input: 1101001:\n",
      "['11', '10', '01', '10', '00', '01', '11']\n",
      "\n",
      "non-looping 2-mers for input: 1101001:\n",
      "['11', '10', '01', '10', '00', '01']\n",
      "\n",
      "looping 3-mers for input: 1101001:\n",
      "['111', '110', '101', '010', '100', '001', '011']\n",
      "\n",
      "non-looping 3-mers for input: 1101001:\n",
      "['110', '101', '010', '100', '001']\n",
      "\n",
      "looping 4-mers for input: 1101001:\n",
      "['1110', '1101', '1010', '0100', '1001', '0011', '0111']\n",
      "\n",
      "non-looping 4-mers for input: 1101001:\n",
      "['1101', '1010', '0100', '1001']\n",
      "\n",
      "looping 2-mers for input: 001011010:\n",
      "['00', '01', '10', '01', '11', '10', '01', '10', '00']\n",
      "\n",
      "non-looping 2-mers for input: 001011010:\n",
      "['00', '01', '10', '01', '11', '10', '01', '10']\n",
      "\n",
      "looping 3-mers for input: 001011010:\n",
      "['000', '001', '010', '101', '011', '110', '101', '010', '100']\n",
      "\n",
      "non-looping 3-mers for input: 001011010:\n",
      "['001', '010', '101', '011', '110', '101', '010']\n",
      "\n",
      "looping 4-mers for input: 001011010:\n",
      "['0001', '0010', '0101', '1011', '0110', '1101', '1010', '0100', '1000']\n",
      "\n",
      "non-looping 4-mers for input: 001011010:\n",
      "['0010', '0101', '1011', '0110', '1101', '1010']\n",
      "\n"
     ]
    }
   ],
   "source": [
    "input_sequences = ['011', '1101001', '001011010']\n",
    "k_vals = [2, 3, 4]\n",
    "looping_vals = [True, False]\n",
    "\n",
    "for inpt, k, looping in product(input_sequences, k_vals, looping_vals):\n",
    "    kmers = get_kmers(inpt_seq=inpt, k=k, looping=looping)\n",
    "    if kmers:\n",
    "        if looping:\n",
    "            assert(len(kmers) == len(inpt))\n",
    "        else:\n",
    "            assert(len(kmers) == len(inpt) - k + 1)\n",
    "    print(f'{\"looping\" if looping else \"non-looping\"} {k}-mers for input: {inpt}:\\n{kmers}\\n')"
   ]
  },
  {
   "cell_type": "markdown",
   "metadata": {},
   "source": [
    "### b.4) process_binary_inpt(inpt_seq, rule_number, input_states='01', order=3, looping=True)"
   ]
  },
  {
   "cell_type": "code",
   "execution_count": 58,
   "metadata": {
    "scrolled": false
   },
   "outputs": [
    {
     "data": {
      "image/png": "[encoded data removed]",
      "text/plain": [
       "<Figure size 1152x1152 with 1 Axes>"
      ]
     },
     "metadata": {
      "needs_background": "light"
     },
     "output_type": "display_data"
    }
   ],
   "source": [
    "# set input params & choose a random init input\n",
    "states = '10' # -> to match wolfram's notation \n",
    "states_count = len(states)\n",
    "\n",
    "# set CA rule params & choose a random processing rule\n",
    "rule_order = 3\n",
    "rule_space_maginitude = states_count ** states_count ** rule_order\n",
    "random_rule_number = np.random.randint(0, rule_space_maginitude)\n",
    "\n",
    "# create a random input of length > O (rule_order)\n",
    "width_pixels = 511\n",
    "init_input = ''.join(np.random.choice(list(states), size=512))\n",
    "\n",
    "# (un)comment these to initialize with a single middle '0' \n",
    "init_input = '1'*int(width_pixels/2)\n",
    "init_input = init_input + '0' + init_input\n",
    "\n",
    "# memory of itteration runs\n",
    "process_history = [init_input]\n",
    "\n",
    "itteration_counts = int(width_pixels/2)\n",
    "for itt in range(itteration_counts):\n",
    "    inpt_seq = process_history[-1]\n",
    "    next_inpt_seq = process_binary_input(inpt_seq=inpt_seq,\n",
    "                                         rule_number=random_rule_number,\n",
    "                                         input_states=states,\n",
    "                                         order=rule_order)\n",
    "    process_history.append(next_inpt_seq)\n",
    "\n",
    "# plot output\n",
    "\n",
    "# Black/White color map for states\n",
    "color_map = {'1':[0]*3, '0':[255]*3}\n",
    "\n",
    "# convert states to Black/White RGBA\n",
    "process_history = [[color_map[val] for val in seq] for seq in process_history]\n",
    "\n",
    "fig = plt.figure(figsize=(16,16))\n",
    "ax = plt.imshow(process_history)\n",
    "plot_title = f'Rule # {random_rule_number} [O = {rule_order}]' \n",
    "\n",
    "title_obj = plt.title(plot_title)\n",
    "plt.setp(title_obj, color='b')\n",
    "\n",
    "plt.show()"
   ]
  },
  {
   "cell_type": "code",
   "execution_count": null,
   "metadata": {},
   "outputs": [],
   "source": []
  }
 ],
 "metadata": {
  "kernelspec": {
   "display_name": "Python 3",
   "language": "python",
   "name": "python3"
  },
  "language_info": {
   "codemirror_mode": {
    "name": "ipython",
    "version": 3
   },
   "file_extension": ".py",
   "mimetype": "text/x-python",
   "name": "python",
   "nbconvert_exporter": "python",
   "pygments_lexer": "ipython3",
   "version": "3.7.4"
  }
 },
 "nbformat": 4,
 "nbformat_minor": 2
}
