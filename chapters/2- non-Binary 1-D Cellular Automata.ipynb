{
 "cells": [
  {
   "cell_type": "code",
   "execution_count": 1,
   "metadata": {},
   "outputs": [],
   "source": [
    "%load_ext autoreload\n",
    "%autoreload 2"
   ]
  },
  {
   "cell_type": "code",
   "execution_count": 2,
   "metadata": {},
   "outputs": [],
   "source": [
    "import string\n",
    "from itertools import product\n",
    "import numpy as np\n",
    "from pprint import pprint\n",
    "import matplotlib.pyplot as plt"
   ]
  },
  {
   "cell_type": "code",
   "execution_count": 23,
   "metadata": {},
   "outputs": [],
   "source": [
    "from get_lookup_indicies import get_lookup_indicies\n",
    "from get_kmers import get_kmers\n",
    "from int_to_based_string import int_to_based_string\n",
    "from based_string_to_int import based_string_to_int\n",
    "from process_input import process_input"
   ]
  },
  {
   "cell_type": "markdown",
   "metadata": {},
   "source": [
    "# 2- non-Binary state 1-D Cellular Automata\n",
    "\n",
    "This notebook will cover:\n",
    "- Extending CA states from the binary case to an arbitrary number"
   ]
  },
  {
   "cell_type": "markdown",
   "metadata": {},
   "source": [
    "Where as in the previous workbook we saw the implementation of a binary set of states [0,1] for 1-D Cellular Automata, this workbook will extend that to an arbitrary set of states.\n",
    "\n",
    "For this to be more intuitive, states will be replaced with an alphabet, namely the first n letters of the alphabet (uppercase)\n",
    "\n",
    "The functions created in C1 will remain mostly the same, with the following changes [~~removed~~, **new**]:\n",
    "1. get_lookup_indicies: no changes\n",
    "1. ~~get_binary_rule_rep~~: not used, replaced with int_to_based_string\n",
    "1. get_kmers: no changes\n",
    "1. ~~process_binary_input~~: not used, replaced with process_input\n",
    "1. **int_to_based_string**: converts a rule number into its state representation extended to an arbitrary number of states\n",
    "1. **based_string_to_int**: conversts a sequence of states into the corresponding rule number (inverse of int_to_based_string)\n",
    "1. **process_input**: process an input sequence through a given rule using the functions above, but extended to an arbitrary number of states"
   ]
  },
  {
   "cell_type": "markdown",
   "metadata": {},
   "source": [
    "## a) Function Modifications\n",
    "\n",
    "The following will implement the above mentioned functions"
   ]
  },
  {
   "cell_type": "markdown",
   "metadata": {},
   "source": [
    "### b.1) get_lookup_indicies(inpt_alphabet, order=3)\n",
    "\n",
    "notes:\n",
    "- validation that function works for arbitrary number of states"
   ]
  },
  {
   "cell_type": "code",
   "execution_count": 24,
   "metadata": {
    "scrolled": false
   },
   "outputs": [
    {
     "name": "stdout",
     "output_type": "stream",
     "text": [
      "\n",
      "For states ABCD & a rule order = 2 , the fixed CA rule lookup indicies are:\n",
      "{'AA': 0, 'AB': 1, 'BA': 2, 'BB': 3}\n",
      "\n",
      "For states ABCD & a rule order = 3 , the fixed CA rule lookup indicies are:\n",
      "{'AAA': 0, 'AAB': 1, 'ABA': 2, 'ABB': 3, 'BAA': 4, 'BAB': 5, 'BBA': 6, 'BBB': 7}\n",
      "\n",
      "For states ABCD & a rule order = 2 , the fixed CA rule lookup indicies are:\n",
      "{'AA': 0,\n",
      " 'AB': 1,\n",
      " 'AC': 2,\n",
      " 'BA': 3,\n",
      " 'BB': 4,\n",
      " 'BC': 5,\n",
      " 'CA': 6,\n",
      " 'CB': 7,\n",
      " 'CC': 8}\n",
      "\n",
      "For states ABCD & a rule order = 3 , the fixed CA rule lookup indicies are:\n",
      "{'AAA': 0,\n",
      " 'AAB': 1,\n",
      " 'AAC': 2,\n",
      " 'ABA': 3,\n",
      " 'ABB': 4,\n",
      " 'ABC': 5,\n",
      " 'ACA': 6,\n",
      " 'ACB': 7,\n",
      " 'ACC': 8,\n",
      " 'BAA': 9,\n",
      " 'BAB': 10,\n",
      " 'BAC': 11,\n",
      " 'BBA': 12,\n",
      " 'BBB': 13,\n",
      " 'BBC': 14,\n",
      " 'BCA': 15,\n",
      " 'BCB': 16,\n",
      " 'BCC': 17,\n",
      " 'CAA': 18,\n",
      " 'CAB': 19,\n",
      " 'CAC': 20,\n",
      " 'CBA': 21,\n",
      " 'CBB': 22,\n",
      " 'CBC': 23,\n",
      " 'CCA': 24,\n",
      " 'CCB': 25,\n",
      " 'CCC': 26}\n",
      "\n",
      "For states ABCD & a rule order = 2 , the fixed CA rule lookup indicies are:\n",
      "{'AA': 0,\n",
      " 'AB': 1,\n",
      " 'AC': 2,\n",
      " 'AD': 3,\n",
      " 'BA': 4,\n",
      " 'BB': 5,\n",
      " 'BC': 6,\n",
      " 'BD': 7,\n",
      " 'CA': 8,\n",
      " 'CB': 9,\n",
      " 'CC': 10,\n",
      " 'CD': 11,\n",
      " 'DA': 12,\n",
      " 'DB': 13,\n",
      " 'DC': 14,\n",
      " 'DD': 15}\n",
      "\n",
      "For states ABCD & a rule order = 3 , the fixed CA rule lookup indicies are:\n",
      "{'AAA': 0,\n",
      " 'AAB': 1,\n",
      " 'AAC': 2,\n",
      " 'AAD': 3,\n",
      " 'ABA': 4,\n",
      " 'ABB': 5,\n",
      " 'ABC': 6,\n",
      " 'ABD': 7,\n",
      " 'ACA': 8,\n",
      " 'ACB': 9,\n",
      " 'ACC': 10,\n",
      " 'ACD': 11,\n",
      " 'ADA': 12,\n",
      " 'ADB': 13,\n",
      " 'ADC': 14,\n",
      " 'ADD': 15,\n",
      " 'BAA': 16,\n",
      " 'BAB': 17,\n",
      " 'BAC': 18,\n",
      " 'BAD': 19,\n",
      " 'BBA': 20,\n",
      " 'BBB': 21,\n",
      " 'BBC': 22,\n",
      " 'BBD': 23,\n",
      " 'BCA': 24,\n",
      " 'BCB': 25,\n",
      " 'BCC': 26,\n",
      " 'BCD': 27,\n",
      " 'BDA': 28,\n",
      " 'BDB': 29,\n",
      " 'BDC': 30,\n",
      " 'BDD': 31,\n",
      " 'CAA': 32,\n",
      " 'CAB': 33,\n",
      " 'CAC': 34,\n",
      " 'CAD': 35,\n",
      " 'CBA': 36,\n",
      " 'CBB': 37,\n",
      " 'CBC': 38,\n",
      " 'CBD': 39,\n",
      " 'CCA': 40,\n",
      " 'CCB': 41,\n",
      " 'CCC': 42,\n",
      " 'CCD': 43,\n",
      " 'CDA': 44,\n",
      " 'CDB': 45,\n",
      " 'CDC': 46,\n",
      " 'CDD': 47,\n",
      " 'DAA': 48,\n",
      " 'DAB': 49,\n",
      " 'DAC': 50,\n",
      " 'DAD': 51,\n",
      " 'DBA': 52,\n",
      " 'DBB': 53,\n",
      " 'DBC': 54,\n",
      " 'DBD': 55,\n",
      " 'DCA': 56,\n",
      " 'DCB': 57,\n",
      " 'DCC': 58,\n",
      " 'DCD': 59,\n",
      " 'DDA': 60,\n",
      " 'DDB': 61,\n",
      " 'DDC': 62,\n",
      " 'DDD': 63}\n"
     ]
    }
   ],
   "source": [
    "state_counts = [2, 3, 4]\n",
    "rule_orders = [2, 3]\n",
    "\n",
    "for test_state_count, test_order in product(state_counts, rule_orders):\n",
    "    test_states = string.ascii_uppercase[:test_state_count]\n",
    "    \n",
    "    kmer_indicies_mapping = get_lookup_indicies(states=test_states, order=test_order)\n",
    "    print(f'\\nFor states {inpt_states} & a rule order = {test_order} , the fixed CA rule lookup indicies are:')\n",
    "    pprint(kmer_indicies_mapping)"
   ]
  },
  {
   "cell_type": "markdown",
   "metadata": {},
   "source": [
    "## b.2) get_kmers(inpt_seq, k=3, looping=False)\n",
    "\n",
    "Notes:\n",
    "- For even number orders and the looping case, the extra kmer overlap is deffered to the end of the kmers list\n",
    "- validation that function works for arbitrary number of states"
   ]
  },
  {
   "cell_type": "code",
   "execution_count": 25,
   "metadata": {},
   "outputs": [
    {
     "name": "stdout",
     "output_type": "stream",
     "text": [
      "looping 2-mers for input: BBC:\n",
      "['BB', 'BC', 'CB']\n",
      "\n",
      "non-looping 2-mers for input: BBC:\n",
      "['BB', 'BC']\n",
      "\n",
      "looping 3-mers for input: BBC:\n",
      "['CBB', 'BBC', 'BCB']\n",
      "\n",
      "non-looping 3-mers for input: BBC:\n",
      "['BBC']\n",
      "\n",
      "looping 4-mers for input: BBC:\n",
      "None\n",
      "\n",
      "non-looping 4-mers for input: BBC:\n",
      "None\n",
      "\n",
      "looping 2-mers for input: ABABBAA:\n",
      "['AB', 'BA', 'AB', 'BB', 'BA', 'AA', 'AA']\n",
      "\n",
      "non-looping 2-mers for input: ABABBAA:\n",
      "['AB', 'BA', 'AB', 'BB', 'BA', 'AA']\n",
      "\n",
      "looping 3-mers for input: ABABBAA:\n",
      "['AAB', 'ABA', 'BAB', 'ABB', 'BBA', 'BAA', 'AAA']\n",
      "\n",
      "non-looping 3-mers for input: ABABBAA:\n",
      "['ABA', 'BAB', 'ABB', 'BBA', 'BAA']\n",
      "\n",
      "looping 4-mers for input: ABABBAA:\n",
      "['AABA', 'ABAB', 'BABB', 'ABBA', 'BBAA', 'BAAA', 'AAAB']\n",
      "\n",
      "non-looping 4-mers for input: ABABBAA:\n",
      "['ABAB', 'BABB', 'ABBA', 'BBAA']\n",
      "\n",
      "looping 2-mers for input: CBCBCCCBACC:\n",
      "['CB', 'BC', 'CB', 'BC', 'CC', 'CC', 'CB', 'BA', 'AC', 'CC', 'CC']\n",
      "\n",
      "non-looping 2-mers for input: CBCBCCCBACC:\n",
      "['CB', 'BC', 'CB', 'BC', 'CC', 'CC', 'CB', 'BA', 'AC', 'CC']\n",
      "\n",
      "looping 3-mers for input: CBCBCCCBACC:\n",
      "['CCB', 'CBC', 'BCB', 'CBC', 'BCC', 'CCC', 'CCB', 'CBA', 'BAC', 'ACC', 'CCC']\n",
      "\n",
      "non-looping 3-mers for input: CBCBCCCBACC:\n",
      "['CBC', 'BCB', 'CBC', 'BCC', 'CCC', 'CCB', 'CBA', 'BAC', 'ACC']\n",
      "\n",
      "looping 4-mers for input: CBCBCCCBACC:\n",
      "['CCBC', 'CBCB', 'BCBC', 'CBCC', 'BCCC', 'CCCB', 'CCBA', 'CBAC', 'BACC', 'ACCC', 'CCCB']\n",
      "\n",
      "non-looping 4-mers for input: CBCBCCCBACC:\n",
      "['CBCB', 'BCBC', 'CBCC', 'BCCC', 'CCCB', 'CCBA', 'CBAC', 'BACC']\n",
      "\n"
     ]
    }
   ],
   "source": [
    "alphabet_size = 3\n",
    "inpt_alphabet = string.ascii_uppercase[:alphabet_size]\n",
    "sequence_lengths = [3, 7, 11]\n",
    "input_sequences = [''.join(np.random.choice(list(inpt_alphabet), size=s_length)) for s_length in sequence_lengths]\n",
    "k_vals = [2, 3, 4]\n",
    "looping_vals = [True, False]\n",
    "\n",
    "for inpt, k, looping in product(input_sequences, k_vals, looping_vals):\n",
    "    kmers = get_kmers(inpt_seq=inpt, k=k, looping=looping)\n",
    "    if kmers:\n",
    "        if looping:\n",
    "            assert(len(kmers) == len(inpt))\n",
    "        else:\n",
    "            assert(len(kmers) == len(inpt) - k + 1)\n",
    "    print(f'{\"looping\" if looping else \"non-looping\"} {k}-mers for input: {inpt}:\\n{kmers}\\n')"
   ]
  },
  {
   "cell_type": "markdown",
   "metadata": {},
   "source": [
    "### b.3) int_to_based_string(number, states, length) & based_string_to_int(sequence, states)\n",
    "\n",
    "notes:\n",
    "- these functions are inverses of one another"
   ]
  },
  {
   "cell_type": "code",
   "execution_count": 26,
   "metadata": {},
   "outputs": [
    {
     "name": "stdout",
     "output_type": "stream",
     "text": [
      "Based string representation of number 7 in states AB is:    \n",
      "\tBBB with length = 3\n",
      "\n",
      "Based string representation of number 2 in states AB is:    \n",
      "\tAAABA with length = 5\n",
      "\n",
      "Based string representation of number 68 in states AB is:    \n",
      "\tBAAABAA with length = 7\n",
      "\n",
      "Based string representation of number 1828 in states AB is:    \n",
      "\tBBBAABAABAA with length = 11\n",
      "\n",
      "Based string representation of number 16 in states ABC is:    \n",
      "\tBCB with length = 3\n",
      "\n",
      "Based string representation of number 166 in states ABC is:    \n",
      "\tCAABB with length = 5\n",
      "\n",
      "Based string representation of number 1656 in states ABC is:    \n",
      "\tCACBBAA with length = 7\n",
      "\n",
      "Based string representation of number 94256 in states ABC is:    \n",
      "\tBBCBAACBCCC with length = 11\n",
      "\n",
      "Based string representation of number 44 in states ABCD is:    \n",
      "\tCDA with length = 3\n",
      "\n",
      "Based string representation of number 638 in states ABCD is:    \n",
      "\tCBDDC with length = 5\n",
      "\n",
      "Based string representation of number 7302 in states ABCD is:    \n",
      "\tBDACABC with length = 7\n",
      "\n",
      "Based string representation of number 2576449 in states ABCD is:    \n",
      "\tCBDBBAABAAB with length = 11\n",
      "\n"
     ]
    }
   ],
   "source": [
    "test_states_count = [2, 3, 4]\n",
    "test_lengths = [3, 5, 7, 11]\n",
    "\n",
    "for states_count, sequence_length in product(test_states_count, test_lengths):\n",
    "    states = string.ascii_uppercase[:states_count]\n",
    "    sequences_count = states_count ** sequence_length\n",
    "    \n",
    "    # choose a random sequence number\n",
    "    test_number = np.random.randint(sequences_count)\n",
    "    \n",
    "    # convert number into appropriate length sequence of states \n",
    "    based_string = int_to_based_string(number=test_number,\n",
    "                                       states=states,\n",
    "                                       length=sequence_length)\n",
    "\n",
    "    # convert the based_string back into an int\n",
    "    converted_int = based_string_to_int(sequence=based_string, states=states)\n",
    "    \n",
    "    assert converted_int == test_number\n",
    "    assert len(based_string) == sequence_length\n",
    "    \n",
    "    print(f'Based string representation of number {test_number} in states {states} is:\\\n",
    "    \\n\\t{based_string} with length = {sequence_length}\\n')\n",
    "\n"
   ]
  },
  {
   "cell_type": "markdown",
   "metadata": {},
   "source": [
    "### b.4) process_inpt(inpt_seq, rule_number, input_states='01', order=3, looping=True)"
   ]
  },
  {
   "cell_type": "code",
   "execution_count": 94,
   "metadata": {
    "scrolled": false
   },
   "outputs": [
    {
     "data": {
      "image/png": "[encoded data removed]",
      "text/plain": [
       "<Figure size 1152x1152 with 1 Axes>"
      ]
     },
     "metadata": {
      "needs_background": "light"
     },
     "output_type": "display_data"
    }
   ],
   "source": [
    "# set input params & choose a random init input\n",
    "states_count = 3 # fixed, if changed must change color_map values accordingly\n",
    "states = string.ascii_uppercase[:states_count]\n",
    "\n",
    "# set CA rule params & choose a random processing rule\n",
    "rule_order = 2\n",
    "rule_space_maginitude = states_count ** states_count ** rule_order\n",
    "random_rule_number = np.random.randint(0, rule_space_maginitude)\n",
    "\n",
    "# create a random input of length > O\n",
    "width_pixels = 256\n",
    "init_input = ''.join(np.random.choice(list(states), size=256))\n",
    "\n",
    "# memory of itteration runs\n",
    "process_history = [init_input]\n",
    "\n",
    "itteration_counts = int(width_pixels/2)\n",
    "for itt in range(itteration_counts):\n",
    "    inpt_seq = process_history[-1]\n",
    "    next_inpt_seq = process_input(inpt_seq=inpt_seq,\n",
    "                                  rule_number=random_rule_number,\n",
    "                                  states=states,\n",
    "                                  order=rule_order)\n",
    "    process_history.append(next_inpt_seq)\n",
    "\n",
    "# plot output\n",
    "\n",
    "# R/G/B color map for states [A, B, C]\n",
    "color_map = {'A':[255, 0, 0],\n",
    "             'B':[0, 255, 0],\n",
    "             'C':[0, 0, 255]}\n",
    "\n",
    "# convert states to Black/White RGBA\n",
    "process_history = [[color_map[val] for val in seq] for seq in process_history]\n",
    "\n",
    "fig = plt.figure(figsize=(16,16))\n",
    "ax = plt.imshow(process_history)\n",
    "plot_title = f'Rule # {random_rule_number} [O = {rule_order}]' \n",
    "\n",
    "title_obj = plt.title(plot_title)\n",
    "plt.setp(title_obj, color='b')\n",
    "\n",
    "plt.show()"
   ]
  },
  {
   "cell_type": "markdown",
   "metadata": {},
   "source": [
    "### TODO:\n",
    "- implement plots for states [A, B, C] where the initial sequence is the combinations of a single of any of the states in a 'sea' of any of the other states. (eg. AAAAAAAAAABAAAAAAAAAA)\n",
    "- extend plotting for more than 3 states (although this serves little as the rule space magnitude increases phenomonally and most rules tend to not have very interesting results)\n",
    "- the rule order for the plotting cannot be changed to more than 2 due to limitations of np.rand.randint requiring only an int32 maximum. A workaround can be to generate a random rule sequence of the appropriate length, then converting it to the appropriate rule number using based_string_to_int."
   ]
  },
  {
   "cell_type": "code",
   "execution_count": null,
   "metadata": {},
   "outputs": [],
   "source": []
  }
 ],
 "metadata": {
  "kernelspec": {
   "display_name": "Python 3",
   "language": "python",
   "name": "python3"
  },
  "language_info": {
   "codemirror_mode": {
    "name": "ipython",
    "version": 3
   },
   "file_extension": ".py",
   "mimetype": "text/x-python",
   "name": "python",
   "nbconvert_exporter": "python",
   "pygments_lexer": "ipython3",
   "version": "3.7.4"
  }
 },
 "nbformat": 4,
 "nbformat_minor": 2
}
