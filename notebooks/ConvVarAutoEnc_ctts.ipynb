{
  "cells": [
    {
      "cell_type": "markdown",
      "metadata": {
        "id": "view-in-github",
        "colab_type": "text"
      },
      "source": [
        "<a href=\"https://colab.research.google.com/github/SubstanceIsFormAndContent/Cellular-Automata/blob/master/notebooks/ConvVarAutoEnc_ctts.ipynb\" target=\"_parent\"><img src=\"https://colab.research.google.com/assets/colab-badge.svg\" alt=\"Open In Colab\"/></a>"
      ]
    },
    {
      "cell_type": "code",
      "source": [
        "!pip install importlib-metadata==4.10.0\n",
        "!pip install twine\n",
        "!pip install blackcellmagic watermark\n",
        "%load_ext blackcellmagic\n",
        "# Load the TensorBoard notebook extension\n",
        "%load_ext tensorboard"
      ],
      "metadata": {
        "colab": {
          "base_uri": "https://localhost:8080/"
        },
        "id": "vPCb-ndb1YF2",
        "outputId": "9da24fb3-ffe4-4656-9938-9bb829247427"
      },
      "execution_count": null,
      "outputs": [
        {
          "output_type": "stream",
          "name": "stdout",
          "text": [
            "Collecting importlib-metadata==4.10.0\n",
            "  Using cached importlib_metadata-4.10.0-py3-none-any.whl (17 kB)\n",
            "Requirement already satisfied: zipp>=0.5 in /usr/local/lib/python3.7/dist-packages (from importlib-metadata==4.10.0) (3.6.0)\n",
            "Requirement already satisfied: typing-extensions>=3.6.4 in /usr/local/lib/python3.7/dist-packages (from importlib-metadata==4.10.0) (3.10.0.2)\n",
            "Installing collected packages: importlib-metadata\n",
            "  Attempting uninstall: importlib-metadata\n",
            "    Found existing installation: importlib-metadata 2.1.2\n",
            "    Uninstalling importlib-metadata-2.1.2:\n",
            "      Successfully uninstalled importlib-metadata-2.1.2\n",
            "\u001b[31mERROR: pip's dependency resolver does not currently take into account all the packages that are installed. This behaviour is the source of the following dependency conflicts.\n",
            "watermark 2.2.0 requires importlib-metadata<3.0; python_version < \"3.8\", but you have importlib-metadata 4.10.0 which is incompatible.\u001b[0m\n",
            "Successfully installed importlib-metadata-4.10.0\n",
            "Requirement already satisfied: twine in /usr/local/lib/python3.7/dist-packages (3.7.1)\n",
            "Requirement already satisfied: readme-renderer>=21.0 in /usr/local/lib/python3.7/dist-packages (from twine) (32.0)\n",
            "Requirement already satisfied: keyring>=15.1 in /usr/local/lib/python3.7/dist-packages (from twine) (23.4.0)\n",
            "Requirement already satisfied: importlib-metadata>=3.6 in /usr/local/lib/python3.7/dist-packages (from twine) (4.10.0)\n",
            "Requirement already satisfied: rfc3986>=1.4.0 in /usr/local/lib/python3.7/dist-packages (from twine) (1.5.0)\n",
            "Requirement already satisfied: requests>=2.20 in /usr/local/lib/python3.7/dist-packages (from twine) (2.23.0)\n",
            "Requirement already satisfied: tqdm>=4.14 in /usr/local/lib/python3.7/dist-packages (from twine) (4.62.3)\n",
            "Requirement already satisfied: requests-toolbelt!=0.9.0,>=0.8.0 in /usr/local/lib/python3.7/dist-packages (from twine) (0.9.1)\n",
            "Requirement already satisfied: pkginfo>=1.8.1 in /usr/local/lib/python3.7/dist-packages (from twine) (1.8.2)\n",
            "Requirement already satisfied: colorama>=0.4.3 in /usr/local/lib/python3.7/dist-packages (from twine) (0.4.4)\n",
            "Requirement already satisfied: zipp>=0.5 in /usr/local/lib/python3.7/dist-packages (from importlib-metadata>=3.6->twine) (3.6.0)\n",
            "Requirement already satisfied: typing-extensions>=3.6.4 in /usr/local/lib/python3.7/dist-packages (from importlib-metadata>=3.6->twine) (3.10.0.2)\n",
            "Requirement already satisfied: SecretStorage>=3.2 in /usr/local/lib/python3.7/dist-packages (from keyring>=15.1->twine) (3.3.1)\n",
            "Requirement already satisfied: jeepney>=0.4.2 in /usr/local/lib/python3.7/dist-packages (from keyring>=15.1->twine) (0.7.1)\n",
            "Requirement already satisfied: bleach>=2.1.0 in /usr/local/lib/python3.7/dist-packages (from readme-renderer>=21.0->twine) (4.1.0)\n",
            "Requirement already satisfied: Pygments>=2.5.1 in /usr/local/lib/python3.7/dist-packages (from readme-renderer>=21.0->twine) (2.6.1)\n",
            "Requirement already satisfied: docutils>=0.13.1 in /usr/local/lib/python3.7/dist-packages (from readme-renderer>=21.0->twine) (0.17.1)\n",
            "Requirement already satisfied: packaging in /usr/local/lib/python3.7/dist-packages (from bleach>=2.1.0->readme-renderer>=21.0->twine) (21.3)\n",
            "Requirement already satisfied: six>=1.9.0 in /usr/local/lib/python3.7/dist-packages (from bleach>=2.1.0->readme-renderer>=21.0->twine) (1.15.0)\n",
            "Requirement already satisfied: webencodings in /usr/local/lib/python3.7/dist-packages (from bleach>=2.1.0->readme-renderer>=21.0->twine) (0.5.1)\n",
            "Requirement already satisfied: urllib3!=1.25.0,!=1.25.1,<1.26,>=1.21.1 in /usr/local/lib/python3.7/dist-packages (from requests>=2.20->twine) (1.24.3)\n",
            "Requirement already satisfied: certifi>=2017.4.17 in /usr/local/lib/python3.7/dist-packages (from requests>=2.20->twine) (2021.10.8)\n",
            "Requirement already satisfied: idna<3,>=2.5 in /usr/local/lib/python3.7/dist-packages (from requests>=2.20->twine) (2.10)\n",
            "Requirement already satisfied: chardet<4,>=3.0.2 in /usr/local/lib/python3.7/dist-packages (from requests>=2.20->twine) (3.0.4)\n",
            "Requirement already satisfied: cryptography>=2.0 in /usr/local/lib/python3.7/dist-packages (from SecretStorage>=3.2->keyring>=15.1->twine) (36.0.1)\n",
            "Requirement already satisfied: cffi>=1.12 in /usr/local/lib/python3.7/dist-packages (from cryptography>=2.0->SecretStorage>=3.2->keyring>=15.1->twine) (1.15.0)\n",
            "Requirement already satisfied: pycparser in /usr/local/lib/python3.7/dist-packages (from cffi>=1.12->cryptography>=2.0->SecretStorage>=3.2->keyring>=15.1->twine) (2.21)\n",
            "Requirement already satisfied: pyparsing!=3.0.5,>=2.0.2 in /usr/local/lib/python3.7/dist-packages (from packaging->bleach>=2.1.0->readme-renderer>=21.0->twine) (3.0.6)\n",
            "Requirement already satisfied: blackcellmagic in /usr/local/lib/python3.7/dist-packages (0.0.3)\n",
            "Requirement already satisfied: watermark in /usr/local/lib/python3.7/dist-packages (2.2.0)\n",
            "Requirement already satisfied: black<22.0,>=21.9b0 in /usr/local/lib/python3.7/dist-packages (from blackcellmagic) (21.12b0)\n",
            "Requirement already satisfied: jupyter<2.0.0,>=1.0.0 in /usr/local/lib/python3.7/dist-packages (from blackcellmagic) (1.0.0)\n",
            "Requirement already satisfied: typed-ast>=1.4.2 in /usr/local/lib/python3.7/dist-packages (from black<22.0,>=21.9b0->blackcellmagic) (1.5.1)\n",
            "Requirement already satisfied: pathspec<1,>=0.9.0 in /usr/local/lib/python3.7/dist-packages (from black<22.0,>=21.9b0->blackcellmagic) (0.9.0)\n",
            "Requirement already satisfied: platformdirs>=2 in /usr/local/lib/python3.7/dist-packages (from black<22.0,>=21.9b0->blackcellmagic) (2.4.1)\n",
            "Requirement already satisfied: tomli<2.0.0,>=0.2.6 in /usr/local/lib/python3.7/dist-packages (from black<22.0,>=21.9b0->blackcellmagic) (1.2.2)\n",
            "Requirement already satisfied: click>=7.1.2 in /usr/local/lib/python3.7/dist-packages (from black<22.0,>=21.9b0->blackcellmagic) (7.1.2)\n",
            "Requirement already satisfied: typing-extensions>=3.10.0.0 in /usr/local/lib/python3.7/dist-packages (from black<22.0,>=21.9b0->blackcellmagic) (3.10.0.2)\n",
            "Requirement already satisfied: mypy-extensions>=0.4.3 in /usr/local/lib/python3.7/dist-packages (from black<22.0,>=21.9b0->blackcellmagic) (0.4.3)\n",
            "Requirement already satisfied: notebook in /usr/local/lib/python3.7/dist-packages (from jupyter<2.0.0,>=1.0.0->blackcellmagic) (5.3.1)\n",
            "Requirement already satisfied: jupyter-console in /usr/local/lib/python3.7/dist-packages (from jupyter<2.0.0,>=1.0.0->blackcellmagic) (5.2.0)\n",
            "Requirement already satisfied: ipywidgets in /usr/local/lib/python3.7/dist-packages (from jupyter<2.0.0,>=1.0.0->blackcellmagic) (7.6.5)\n",
            "Requirement already satisfied: nbconvert in /usr/local/lib/python3.7/dist-packages (from jupyter<2.0.0,>=1.0.0->blackcellmagic) (5.6.1)\n",
            "Requirement already satisfied: ipykernel in /usr/local/lib/python3.7/dist-packages (from jupyter<2.0.0,>=1.0.0->blackcellmagic) (4.10.1)\n",
            "Requirement already satisfied: qtconsole in /usr/local/lib/python3.7/dist-packages (from jupyter<2.0.0,>=1.0.0->blackcellmagic) (5.2.1)\n",
            "Collecting importlib-metadata<3.0\n",
            "  Using cached importlib_metadata-2.1.2-py2.py3-none-any.whl (10 kB)\n",
            "Requirement already satisfied: ipython in /usr/local/lib/python3.7/dist-packages (from watermark) (5.5.0)\n",
            "Requirement already satisfied: zipp>=0.5 in /usr/local/lib/python3.7/dist-packages (from importlib-metadata<3.0->watermark) (3.6.0)\n",
            "Requirement already satisfied: jupyter-client in /usr/local/lib/python3.7/dist-packages (from ipykernel->jupyter<2.0.0,>=1.0.0->blackcellmagic) (5.3.5)\n",
            "Requirement already satisfied: traitlets>=4.1.0 in /usr/local/lib/python3.7/dist-packages (from ipykernel->jupyter<2.0.0,>=1.0.0->blackcellmagic) (5.1.1)\n",
            "Requirement already satisfied: tornado>=4.0 in /usr/local/lib/python3.7/dist-packages (from ipykernel->jupyter<2.0.0,>=1.0.0->blackcellmagic) (5.1.1)\n",
            "Requirement already satisfied: setuptools>=18.5 in /usr/local/lib/python3.7/dist-packages (from ipython->watermark) (57.4.0)\n",
            "Requirement already satisfied: pickleshare in /usr/local/lib/python3.7/dist-packages (from ipython->watermark) (0.7.5)\n",
            "Requirement already satisfied: pexpect in /usr/local/lib/python3.7/dist-packages (from ipython->watermark) (4.8.0)\n",
            "Requirement already satisfied: decorator in /usr/local/lib/python3.7/dist-packages (from ipython->watermark) (4.4.2)\n",
            "Requirement already satisfied: pygments in /usr/local/lib/python3.7/dist-packages (from ipython->watermark) (2.6.1)\n",
            "Requirement already satisfied: prompt-toolkit<2.0.0,>=1.0.4 in /usr/local/lib/python3.7/dist-packages (from ipython->watermark) (1.0.18)\n",
            "Requirement already satisfied: simplegeneric>0.8 in /usr/local/lib/python3.7/dist-packages (from ipython->watermark) (0.8.1)\n",
            "Requirement already satisfied: wcwidth in /usr/local/lib/python3.7/dist-packages (from prompt-toolkit<2.0.0,>=1.0.4->ipython->watermark) (0.2.5)\n",
            "Requirement already satisfied: six>=1.9.0 in /usr/local/lib/python3.7/dist-packages (from prompt-toolkit<2.0.0,>=1.0.4->ipython->watermark) (1.15.0)\n",
            "Requirement already satisfied: jupyterlab-widgets>=1.0.0 in /usr/local/lib/python3.7/dist-packages (from ipywidgets->jupyter<2.0.0,>=1.0.0->blackcellmagic) (1.0.2)\n",
            "Requirement already satisfied: nbformat>=4.2.0 in /usr/local/lib/python3.7/dist-packages (from ipywidgets->jupyter<2.0.0,>=1.0.0->blackcellmagic) (5.1.3)\n",
            "Requirement already satisfied: ipython-genutils~=0.2.0 in /usr/local/lib/python3.7/dist-packages (from ipywidgets->jupyter<2.0.0,>=1.0.0->blackcellmagic) (0.2.0)\n",
            "Requirement already satisfied: widgetsnbextension~=3.5.0 in /usr/local/lib/python3.7/dist-packages (from ipywidgets->jupyter<2.0.0,>=1.0.0->blackcellmagic) (3.5.2)\n",
            "Requirement already satisfied: jsonschema!=2.5.0,>=2.4 in /usr/local/lib/python3.7/dist-packages (from nbformat>=4.2.0->ipywidgets->jupyter<2.0.0,>=1.0.0->blackcellmagic) (2.6.0)\n",
            "Requirement already satisfied: jupyter-core in /usr/local/lib/python3.7/dist-packages (from nbformat>=4.2.0->ipywidgets->jupyter<2.0.0,>=1.0.0->blackcellmagic) (4.9.1)\n",
            "Requirement already satisfied: Send2Trash in /usr/local/lib/python3.7/dist-packages (from notebook->jupyter<2.0.0,>=1.0.0->blackcellmagic) (1.8.0)\n",
            "Requirement already satisfied: terminado>=0.8.1 in /usr/local/lib/python3.7/dist-packages (from notebook->jupyter<2.0.0,>=1.0.0->blackcellmagic) (0.12.1)\n",
            "Requirement already satisfied: jinja2 in /usr/local/lib/python3.7/dist-packages (from notebook->jupyter<2.0.0,>=1.0.0->blackcellmagic) (2.11.3)\n",
            "Requirement already satisfied: pyzmq>=13 in /usr/local/lib/python3.7/dist-packages (from jupyter-client->ipykernel->jupyter<2.0.0,>=1.0.0->blackcellmagic) (22.3.0)\n",
            "Requirement already satisfied: python-dateutil>=2.1 in /usr/local/lib/python3.7/dist-packages (from jupyter-client->ipykernel->jupyter<2.0.0,>=1.0.0->blackcellmagic) (2.8.2)\n",
            "Requirement already satisfied: ptyprocess in /usr/local/lib/python3.7/dist-packages (from terminado>=0.8.1->notebook->jupyter<2.0.0,>=1.0.0->blackcellmagic) (0.7.0)\n",
            "Requirement already satisfied: MarkupSafe>=0.23 in /usr/local/lib/python3.7/dist-packages (from jinja2->notebook->jupyter<2.0.0,>=1.0.0->blackcellmagic) (2.0.1)\n",
            "Requirement already satisfied: testpath in /usr/local/lib/python3.7/dist-packages (from nbconvert->jupyter<2.0.0,>=1.0.0->blackcellmagic) (0.5.0)\n",
            "Requirement already satisfied: pandocfilters>=1.4.1 in /usr/local/lib/python3.7/dist-packages (from nbconvert->jupyter<2.0.0,>=1.0.0->blackcellmagic) (1.5.0)\n",
            "Requirement already satisfied: entrypoints>=0.2.2 in /usr/local/lib/python3.7/dist-packages (from nbconvert->jupyter<2.0.0,>=1.0.0->blackcellmagic) (0.3)\n",
            "Requirement already satisfied: defusedxml in /usr/local/lib/python3.7/dist-packages (from nbconvert->jupyter<2.0.0,>=1.0.0->blackcellmagic) (0.7.1)\n",
            "Requirement already satisfied: bleach in /usr/local/lib/python3.7/dist-packages (from nbconvert->jupyter<2.0.0,>=1.0.0->blackcellmagic) (4.1.0)\n",
            "Requirement already satisfied: mistune<2,>=0.8.1 in /usr/local/lib/python3.7/dist-packages (from nbconvert->jupyter<2.0.0,>=1.0.0->blackcellmagic) (0.8.4)\n",
            "Requirement already satisfied: webencodings in /usr/local/lib/python3.7/dist-packages (from bleach->nbconvert->jupyter<2.0.0,>=1.0.0->blackcellmagic) (0.5.1)\n",
            "Requirement already satisfied: packaging in /usr/local/lib/python3.7/dist-packages (from bleach->nbconvert->jupyter<2.0.0,>=1.0.0->blackcellmagic) (21.3)\n",
            "Requirement already satisfied: pyparsing!=3.0.5,>=2.0.2 in /usr/local/lib/python3.7/dist-packages (from packaging->bleach->nbconvert->jupyter<2.0.0,>=1.0.0->blackcellmagic) (3.0.6)\n",
            "Requirement already satisfied: qtpy in /usr/local/lib/python3.7/dist-packages (from qtconsole->jupyter<2.0.0,>=1.0.0->blackcellmagic) (1.11.2)\n",
            "Installing collected packages: importlib-metadata\n",
            "  Attempting uninstall: importlib-metadata\n",
            "    Found existing installation: importlib-metadata 4.10.0\n",
            "    Uninstalling importlib-metadata-4.10.0:\n",
            "      Successfully uninstalled importlib-metadata-4.10.0\n",
            "\u001b[31mERROR: pip's dependency resolver does not currently take into account all the packages that are installed. This behaviour is the source of the following dependency conflicts.\n",
            "twine 3.7.1 requires importlib-metadata>=3.6, but you have importlib-metadata 2.1.2 which is incompatible.\n",
            "markdown 3.3.6 requires importlib-metadata>=4.4; python_version < \"3.10\", but you have importlib-metadata 2.1.2 which is incompatible.\n",
            "keyring 23.4.0 requires importlib-metadata>=3.6, but you have importlib-metadata 2.1.2 which is incompatible.\u001b[0m\n",
            "Successfully installed importlib-metadata-2.1.2\n"
          ]
        }
      ]
    },
    {
      "cell_type": "code",
      "source": [
        "import numpy as np\n",
        "\n",
        "import keras\n",
        "import keras.backend as K\n",
        "from keras import Model, losses, callbacks\n",
        "from keras.layers import Conv2D, Dense, MaxPooling2D, UpSampling2D, BatchNormalization, Flatten, Reshape, Lambda, Add\n",
        "\n",
        "import tensorflow.keras.datasets.mnist as mnist\n",
        "\n",
        "import matplotlib.pyplot as plt\n",
        "from matplotlib import animation\n",
        "%matplotlib inline"
      ],
      "metadata": {
        "id": "IupostUTZBhG"
      },
      "execution_count": null,
      "outputs": []
    },
    {
      "cell_type": "code",
      "execution_count": null,
      "metadata": {
        "id": "EZvbtZTgftp9"
      },
      "outputs": [],
      "source": [
        "# First, the typically annoying process of getting the data\n",
        "(x_train, y_train), (x_test, y_test) = mnist.load_data()\n",
        "\n",
        "x_train = x_train.astype('float32') / 255.\n",
        "x_test = x_test.astype('float32') / 255.\n",
        "x_train = np.reshape(x_train, (len(x_train), 28, 28, 1))\n",
        "x_test = np.reshape(x_test, (len(x_test), 28, 28, 1))"
      ]
    },
    {
      "cell_type": "code",
      "execution_count": null,
      "metadata": {
        "id": "YroLttY6hEO-"
      },
      "outputs": [],
      "source": [
        "# Intention: Build a class to train and test a specific type. In this case, the CAE [ConvolutionalAutoEncoder]"
      ]
    },
    {
      "cell_type": "code",
      "source": [
        "def manhattan_distance(y_train,y_pred):\n",
        "   distance = K.abs(y_train-y_pred)\n",
        "   return Reshape((28, 28))(distance)\n",
        "\n",
        "def eucledian_distance(y_train, y_pred):\n",
        "    distance_squared = K.square(y_train) + K.square(y_pred)\n",
        "    distance = K.sqrt(distance_squared)\n",
        "    return Reshape((28, 28))(distance)\n",
        "\n",
        "def custom_loss_fn(y_train, y_pred, test=False):\n",
        "    mse = losses.mean_squared_error(y_train, y_pred)\n",
        "    mloss = manhattan_distance(y_train, y_pred)\n",
        "    eloss = eucledian_distance(y_train, y_pred)\n",
        "\n",
        "    if test:\n",
        "        print(f'MSE SHAPE: {mse.shape} -- MLOSS SHAPE: {mloss.shape} -- ELOSS SHAPE: {eloss.shape}')\n",
        "        return mse, mloss, eloss\n",
        "\n",
        "    return K.sqrt(Add()([mloss, eloss]))\n",
        "\n",
        "mse, mloss, eloss = custom_loss_fn(x_train, x_train, test=True)"
      ],
      "metadata": {
        "id": "J3VwCslt7g1a"
      },
      "execution_count": null,
      "outputs": []
    },
    {
      "cell_type": "code",
      "execution_count": null,
      "metadata": {
        "id": "V0GAS1LZftsa"
      },
      "outputs": [],
      "source": [
        "LATENT_SIDE = 7\n",
        "LATENET_SIZE = LATENT_SIDE ** 2"
      ]
    },
    {
      "cell_type": "code",
      "source": [
        "def create_model(loss_fn=None, summary=False, metrics=['mse', custom_loss_fn]):\n",
        "    input_img = keras.Input(shape=(28, 28, 1))\n",
        "\n",
        "    x = Conv2D(16, (3, 3), activation='relu', padding='same')(input_img)\n",
        "    x = Conv2D(32, (3, 3), activation='relu', padding='same')(x)\n",
        "    x = BatchNormalization()(x)\n",
        "    x = MaxPooling2D((2, 2), padding='same')(x)\n",
        "    x = Conv2D(32, (3, 3), activation='relu', padding='same')(x)\n",
        "    x = Conv2D(64, (3, 3), activation='relu', padding='same')(x)\n",
        "    x = BatchNormalization()(x)\n",
        "    x = MaxPooling2D((2, 2), padding='same')(x)\n",
        "    x = Conv2D(64, (3, 3), activation='relu', padding='same')(x)\n",
        "    x = Conv2D(92, (3, 3), activation='relu', padding='same')(x)\n",
        "    x = BatchNormalization()(x)\n",
        "    x = MaxPooling2D((2, 2), padding='same')(x)\n",
        "    x = Flatten()(x)\n",
        "    encoded = Dense(49, activation='sigmoid')(x)\n",
        "\n",
        "    # at this point the representation is 49 latent reps\n",
        "\n",
        "    x = Dense(128, activation='relu')(encoded)\n",
        "    x = Reshape((4,4,8))(x)\n",
        "    x = Conv2D(92, (3, 3), activation='relu', padding='same')(x)\n",
        "    x = Conv2D(64, (3, 3), activation='relu', padding='same')(x)\n",
        "    x = BatchNormalization()(x)\n",
        "    x = UpSampling2D((2, 2))(x)\n",
        "    x = Conv2D(64, (3, 3), activation='relu', padding='same')(x)\n",
        "    x = Conv2D(32, (3, 3), activation='relu', padding='same')(x)\n",
        "    x = BatchNormalization()(x)\n",
        "    x = UpSampling2D((2, 2))(x)\n",
        "    x = Conv2D(32, (3, 3), activation='relu')(x)\n",
        "    x = Conv2D(16, (3, 3), activation='relu', padding='same')(x)\n",
        "    x = BatchNormalization()(x)\n",
        "    x = UpSampling2D((2, 2))(x)\n",
        "    decoded = Conv2D(1, (3, 3), activation='sigmoid', padding='same')(x)\n",
        "\n",
        "    autoencoder_model = Model(input_img, decoded)\n",
        "    encoder_model = Model(input_img, encoded)\n",
        "    decoder_model = Model(encoded, decoded)\n",
        "    if loss_fn:\n",
        "        autoencoder_model.compile(optimizer='adam', loss=loss_fn, metrics=metrics)\n",
        "    else:\n",
        "        autoencoder_model.compile(optimizer='adam', loss='mse', metrics=metrics)\n",
        "    if summary: autoencoder_model.summary()\n",
        "    return encoder_model, decoder_model, autoencoder_model"
      ],
      "metadata": {
        "id": "mSNTibGr0K6u"
      },
      "execution_count": null,
      "outputs": []
    },
    {
      "cell_type": "markdown",
      "source": [
        ""
      ],
      "metadata": {
        "id": "hQT1D5aCA0Ib"
      }
    },
    {
      "cell_type": "code",
      "source": [
        "logdir = \"logs/autoencoder_ctts\"\n",
        "tensorboard_callback = callbacks.TensorBoard(logdir, histogram_freq=1)\n",
        "\n",
        "%load_ext tensorboard\n",
        "%tensorboard --logdir logs/autoencoder_ctts\n",
        "import tensorboard\n",
        "\n",
        "tensorboard.notebook.list() # View open TensorBoard instances\n",
        "\n",
        "\n",
        "# the most recently launched TensorBoard is used\n",
        "tensorboard.notebook.display(port=6006, height=1000) \n",
        "\n",
        "def train_model(epochs=5, batch_size=128, loss_fn=None, summary=False, callbacks=[tensorboard_callback]):\n",
        "    encoder_model, decoder_model, autoencoder_model = create_model(loss_fn)\n",
        "    \n",
        "    autoencoder_model.fit(x=x_train,\n",
        "                          y=x_train,\n",
        "                          epochs=epochs,\n",
        "                          batch_size=batch_size,\n",
        "                          shuffle=True,\n",
        "                          validation_data=(x_test, x_test),\n",
        "                          callbacks=callbacks)\n",
        "    \n",
        "\n",
        "    return encoder_model, decoder_model, autoencoder_model"
      ],
      "metadata": {
        "colab": {
          "base_uri": "https://localhost:8080/",
          "height": 1000
        },
        "id": "NDlH1kAo_PcP",
        "outputId": "eee4de0d-ceb6-4b76-b84f-3715ad5ddedc"
      },
      "execution_count": null,
      "outputs": [
        {
          "output_type": "stream",
          "name": "stdout",
          "text": [
            "The tensorboard extension is already loaded. To reload it, use:\n",
            "  %reload_ext tensorboard\n"
          ]
        },
        {
          "output_type": "display_data",
          "data": {
            "text/plain": [
              "Reusing TensorBoard on port 6006 (pid 323), started 4:13:00 ago. (Use '!kill 323' to kill it.)"
            ]
          },
          "metadata": {}
        },
        {
          "output_type": "display_data",
          "data": {
            "application/javascript": [
              "\n",
              "        (async () => {\n",
              "            const url = new URL(await google.colab.kernel.proxyPort(6006, {'cache': true}));\n",
              "            url.searchParams.set('tensorboardColab', 'true');\n",
              "            const iframe = document.createElement('iframe');\n",
              "            iframe.src = url;\n",
              "            iframe.setAttribute('width', '100%');\n",
              "            iframe.setAttribute('height', '800');\n",
              "            iframe.setAttribute('frameborder', 0);\n",
              "            document.body.appendChild(iframe);\n",
              "        })();\n",
              "    "
            ],
            "text/plain": [
              "<IPython.core.display.Javascript object>"
            ]
          },
          "metadata": {}
        },
        {
          "output_type": "stream",
          "name": "stdout",
          "text": [
            "Known TensorBoard instances:\n",
            "  - port 6006: logdir logs/autoencoder_ctts (started 4:13:00 ago; pid 323)\n",
            "  - port 6006: logdir logs/autoencoder_ctts (started 3:59:40 ago; pid 609)\n",
            "Selecting TensorBoard with logdir logs/autoencoder_ctts (started 3:59:40 ago; port 6006, pid 609).\n"
          ]
        },
        {
          "output_type": "display_data",
          "data": {
            "application/javascript": [
              "\n",
              "        (async () => {\n",
              "            const url = new URL(await google.colab.kernel.proxyPort(6006, {'cache': true}));\n",
              "            url.searchParams.set('tensorboardColab', 'true');\n",
              "            const iframe = document.createElement('iframe');\n",
              "            iframe.src = url;\n",
              "            iframe.setAttribute('width', '100%');\n",
              "            iframe.setAttribute('height', '1000');\n",
              "            iframe.setAttribute('frameborder', 0);\n",
              "            document.body.appendChild(iframe);\n",
              "        })();\n",
              "    "
            ],
            "text/plain": [
              "<IPython.core.display.Javascript object>"
            ]
          },
          "metadata": {}
        }
      ]
    },
    {
      "cell_type": "code",
      "source": [
        "basic_encoder_model, basic_decoder_model, basic_autoencoder_model = train_model()"
      ],
      "metadata": {
        "id": "9ASovg-cO3ak",
        "colab": {
          "base_uri": "https://localhost:8080/"
        },
        "outputId": "3fc67e9c-dd10-4616-f299-3b5433d1119f"
      },
      "execution_count": null,
      "outputs": [
        {
          "output_type": "stream",
          "name": "stdout",
          "text": [
            "Epoch 1/5\n",
            "469/469 [==============================] - 362s 762ms/step - loss: 0.0435 - mse: 0.0435 - custom_loss_fn: 0.3726 - val_loss: 0.0464 - val_mse: 0.0464 - val_custom_loss_fn: 0.2589\n",
            "Epoch 2/5\n",
            "469/469 [==============================] - 349s 743ms/step - loss: 0.0129 - mse: 0.0129 - custom_loss_fn: 0.2435 - val_loss: 0.0141 - val_mse: 0.0141 - val_custom_loss_fn: 0.2542\n",
            "Epoch 3/5\n",
            "469/469 [==============================] - 341s 726ms/step - loss: 0.0102 - mse: 0.0102 - custom_loss_fn: 0.2309 - val_loss: 0.0100 - val_mse: 0.0100 - val_custom_loss_fn: 0.2384\n",
            "Epoch 4/5\n",
            "469/469 [==============================] - 350s 746ms/step - loss: 0.0089 - mse: 0.0089 - custom_loss_fn: 0.2255 - val_loss: 0.0099 - val_mse: 0.0099 - val_custom_loss_fn: 0.2294\n",
            "Epoch 5/5\n",
            "469/469 [==============================] - 353s 753ms/step - loss: 0.0080 - mse: 0.0080 - custom_loss_fn: 0.2220 - val_loss: 0.0087 - val_mse: 0.0087 - val_custom_loss_fn: 0.2234\n"
          ]
        }
      ]
    },
    {
      "cell_type": "code",
      "source": [
        "mloss_encoder_model, mloss_decoder_model, mloss_autoencoder_model = train_model(loss_fn=custom_loss_fn)"
      ],
      "metadata": {
        "id": "sB6LvR4qO9fn",
        "colab": {
          "base_uri": "https://localhost:8080/"
        },
        "outputId": "4f65e99c-726b-45c6-df5b-03eb01421a19"
      },
      "execution_count": null,
      "outputs": [
        {
          "output_type": "stream",
          "name": "stdout",
          "text": [
            "Epoch 1/5\n",
            "469/469 [==============================] - 356s 755ms/step - loss: 0.4058 - mse: 0.0523 - custom_loss_fn: 0.4058 - val_loss: 0.4793 - val_mse: 0.0744 - val_custom_loss_fn: 0.4793\n",
            "Epoch 2/5\n",
            "469/469 [==============================] - 344s 734ms/step - loss: 0.2845 - mse: 0.0188 - custom_loss_fn: 0.2845 - val_loss: 0.2849 - val_mse: 0.0143 - val_custom_loss_fn: 0.2849\n",
            "Epoch 3/5\n",
            "469/469 [==============================] - 341s 727ms/step - loss: 0.2735 - mse: 0.0146 - custom_loss_fn: 0.2735 - val_loss: 0.2783 - val_mse: 0.0131 - val_custom_loss_fn: 0.2783\n",
            "Epoch 4/5\n",
            "469/469 [==============================] - 342s 730ms/step - loss: 0.2685 - mse: 0.0127 - custom_loss_fn: 0.2685 - val_loss: 0.2730 - val_mse: 0.0143 - val_custom_loss_fn: 0.2730\n",
            "Epoch 5/5\n",
            "469/469 [==============================] - 345s 737ms/step - loss: 0.2655 - mse: 0.0116 - custom_loss_fn: 0.2655 - val_loss: 0.2713 - val_mse: 0.0114 - val_custom_loss_fn: 0.2713\n"
          ]
        }
      ]
    },
    {
      "cell_type": "code",
      "source": [
        "n = 16\n",
        "sample = x_test[np.random.randint(0, len(x_test), size=n)]\n",
        "basic_decoded_imgs = basic_autoencoder_model.predict(sample)\n",
        "mloss_decoded_imgs = mloss_autoencoder_model.predict(sample)\n",
        "\n",
        "plt.figure(figsize=(36, 10))\n",
        "for i in range(1, n + 1):\n",
        "    # Display original\n",
        "    ax = plt.subplot(3, n, i)\n",
        "    plt.imshow(sample[i-1].reshape(28, 28))\n",
        "    plt.gray()\n",
        "    ax.get_xaxis().set_visible(False)\n",
        "    ax.get_yaxis().set_visible(False)\n",
        "\n",
        "    # Display basic reconstruction\n",
        "    ax = plt.subplot(3, n, i + n)\n",
        "    plt.imshow(basic_decoded_imgs[i-1].reshape(28, 28))\n",
        "    plt.gray()\n",
        "    ax.get_xaxis().set_visible(False)\n",
        "    ax.get_yaxis().set_visible(False)\n",
        "\n",
        "    # Display custom reconstruction\n",
        "    ax = plt.subplot(3, n, i + 2*n)\n",
        "    plt.imshow(mloss_decoded_imgs[i-1].reshape(28, 28))\n",
        "    plt.gray()\n",
        "    ax.get_xaxis().set_visible(False)\n",
        "    ax.get_yaxis().set_visible(False)\n",
        "plt.show()\n"
      ],
      "metadata": {
        "id": "ALGVpYnt7dwZ",
        "colab": {
          "base_uri": "https://localhost:8080/",
          "height": 524
        },
        "outputId": "b2d3c09b-413d-4aee-dedd-3f8cd1a8d9ff"
      },
      "execution_count": null,
      "outputs": [
        {
          "output_type": "display_data",
          "data": {
            "image/png": "[encoded data removed]",
            "text/plain": [
              "<Figure size 2592x720 with 48 Axes>"
            ]
          },
          "metadata": {
            "needs_background": "light"
          }
        }
      ]
    },
    {
      "cell_type": "code",
      "source": [
        "import time\n",
        "from tqdm import tqdm, trange\n",
        "from IPython.display import HTML\n",
        "from tensorflow.python.ops.numpy_ops import np_config\n",
        "np_config.enable_numpy_behavior()\n",
        "\n",
        "def get_random_digit():\n",
        "    idx = np.random.randint(0, x_train.shape[0]-1)\n",
        "    seed_digit = np.array(x_train[idx:idx+1])\n",
        "    return seed_digit, seed_digit\n",
        "\n",
        "basic_seed_digit, mloss_seed_digit = get_random_digit()\n",
        "\n",
        "# create a figure and axes\n",
        "fig = plt.figure(figsize=(12,6))\n",
        "plt.title('Comparison of different training quality for generation')\n",
        "ax1 = plt.subplot(1,2,1)   \n",
        "ax2 = plt.subplot(1,2,2)\n",
        "\n",
        "# set up the subplots as needed\n",
        "ax1.get_xaxis().set_visible(False)\n",
        "ax1.get_yaxis().set_visible(False)\n",
        "ax2.get_xaxis().set_visible(False)\n",
        "ax2.get_yaxis().set_visible(False)\n",
        "\n",
        "\n",
        "# create objects that will change in the animation. These are\n",
        "# initially empty, and will be given new values for each frame\n",
        "# in the animation.\n",
        "ax1.set_title('mse')\n",
        "ax2.set_title('mse + mloss')\n",
        "left_img = ax1.imshow(np.zeros((28,28))) \n",
        "right_img = ax2.imshow(np.zeros((28,28)))\n",
        "# don't show the plain background\n",
        "#plt.close()\n",
        "\n",
        "\n",
        "frames = []\n",
        "for idx in trange(10000):\n",
        "\n",
        "    basic_digit_rep = basic_encoder_model(basic_seed_digit, training=False)\n",
        "    basic_projected_digit = basic_decoder_model(basic_digit_rep, training=False)\n",
        "\n",
        "    mloss_digit_rep = mloss_encoder_model(mloss_seed_digit, training=False)\n",
        "    mloss_projected_digit = mloss_decoder_model(mloss_digit_rep, training=False)\n",
        "\n",
        "    left_img = ax1.imshow(basic_projected_digit.reshape((28,28)))\n",
        "    right_img = ax2.imshow(mloss_projected_digit.reshape((28,28)))\n",
        "\n",
        "    frames.append([left_img, right_img])\n",
        "\n",
        "    if not idx % 100:\n",
        "        basic_seed_digit, mloss_seed_digit = get_random_digit()\n",
        "    else:\n",
        "        basic_seed_digit = basic_projected_digit\n",
        "        mloss_seed_digit = mloss_projected_digit\n",
        "\n",
        "anim = animation.ArtistAnimation(fig, frames, interval=20, blit=True, repeat_delay=500)\n",
        "HTML(anim.to_html5_video())"
      ],
      "metadata": {
        "id": "nY1BDWSuQtj_",
        "colab": {
          "base_uri": "https://localhost:8080/"
        },
        "outputId": "628532a8-b418-4d3b-b069-91a62323489f"
      },
      "execution_count": null,
      "outputs": [
        {
          "output_type": "stream",
          "name": "stderr",
          "text": [
            "100%|██████████| 10000/10000 [07:35<00:00, 21.95it/s]\n"
          ]
        }
      ]
    },
    {
      "cell_type": "code",
      "source": [
        "mse, mloss, eloss = custom_loss_fn(x_train[:20],x_train[1:21], test=True)\n",
        "tloss = Add()([mse, eloss, mloss])\n",
        "\n",
        "In [30]: n = 16\n",
        "    ...: \n",
        "    ...: plt.figure(figsize=(36, 10))\n",
        "    ...: for i in range(1, n + 1):\n",
        "    ...:     # Display original\n",
        "    ...:     ax = plt.subplot(4, n, i)\n",
        "    ...:     plt.imshow(tloss[i-1])\n",
        "    ...:     plt.gray()\n",
        "    ...:     ax.get_xaxis().set_visible(False)\n",
        "    ...:     ax.get_yaxis().set_visible(False)\n",
        "    ...: \n",
        "    ...:     # Display basic reconstruction\n",
        "    ...:     ax = plt.subplot(4, n, i+n)\n",
        "    ...:     plt.imshow(mse[i-1])\n",
        "    ...:     plt.gray()\n",
        "    ...:     ax.get_xaxis().set_visible(False)\n",
        "    ...:     ax.get_yaxis().set_visible(False)\n",
        "    ...: \n",
        "    ...:     # Display custom reconstruction\n",
        "    ...:     ax = plt.subplot(4, n, i+2*n)\n",
        "    ...:     plt.imshow(mloss[i-1])\n",
        "    ...:     plt.gray()\n",
        "    ...:     ax.get_xaxis().set_visible(False)\n",
        "    ...:     ax.get_yaxis().set_visible(False)\n",
        "    ...: \n",
        "    ...: # Display custom reconstruction\n",
        "    ...:     ax = plt.subplot(4, n, i+3*n)\n",
        "    ...:     plt.imshow(eloss[i-1])\n",
        "    ...:     plt.gray()\n",
        "    ...:     ax.get_xaxis().set_visible(False)\n",
        "    ...:     ax.get_yaxis().set_visible(False)\n",
        "    ...: plt.show()"
      ],
      "metadata": {
        "id": "koP6kkHqgArN"
      },
      "execution_count": null,
      "outputs": []
    },
    {
      "cell_type": "code",
      "source": [
        ""
      ],
      "metadata": {
        "id": "JG_G-uwKIIQk"
      },
      "execution_count": null,
      "outputs": []
    }
  ],
  "metadata": {
    "accelerator": "TPU",
    "colab": {
      "name": "autoencoder_ctts.ipynb",
      "provenance": [],
      "collapsed_sections": [],
      "authorship_tag": "ABX9TyOa0dTLHPqD70fSa2BN245/",
      "include_colab_link": true
    },
    "kernelspec": {
      "display_name": "Python 3",
      "name": "python3"
    },
    "language_info": {
      "name": "python"
    }
  },
  "nbformat": 4,
  "nbformat_minor": 0
}